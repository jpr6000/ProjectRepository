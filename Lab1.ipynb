{
  "nbformat": 4,
  "nbformat_minor": 0,
  "metadata": {
    "colab": {
      "name": "Lab1.ipynb",
      "provenance": [],
      "collapsed_sections": [],
      "authorship_tag": "ABX9TyNZxObN+TFE0BWiIaGAFqaa",
      "include_colab_link": true
    },
    "kernelspec": {
      "name": "python3",
      "display_name": "Python 3"
    }
  },
  "cells": [
    {
      "cell_type": "markdown",
      "metadata": {
        "id": "view-in-github",
        "colab_type": "text"
      },
      "source": [
        "<a href=\"https://colab.research.google.com/github/jpr6000/ProjectRepository/blob/master/Lab1.ipynb\" target=\"_parent\"><img src=\"https://colab.research.google.com/assets/colab-badge.svg\" alt=\"Open In Colab\"/></a>"
      ]
    },
    {
      "cell_type": "markdown",
      "metadata": {
        "id": "wF-xNy8VftdM",
        "colab_type": "text"
      },
      "source": [
        "# Do you like using Jupyter Notebooks?"
      ]
    },
    {
      "cell_type": "markdown",
      "metadata": {
        "id": "vZzJtNVJgXnd",
        "colab_type": "text"
      },
      "source": [
        "So far, I do enjoy using Jupyter Notebooks. It seems like a fairly easy and beginner friendly way to learn how to code."
      ]
    },
    {
      "cell_type": "markdown",
      "metadata": {
        "id": "Yv1OUFx1g_BV",
        "colab_type": "text"
      },
      "source": [
        "# What do you want to learn more about in Jupyter Notebooks?"
      ]
    },
    {
      "cell_type": "markdown",
      "metadata": {
        "id": "RIZauF0FhPyV",
        "colab_type": "text"
      },
      "source": [
        "My coding experience is very limited, so I would like to learn as much about coding as I possibly can. Additionally, I would like to learn how to use Jupyter Notebooks effectively."
      ]
    },
    {
      "cell_type": "markdown",
      "metadata": {
        "id": "uUGaVPNChTTl",
        "colab_type": "text"
      },
      "source": [
        "![The night sky](https://raw.githubusercontent.com/jpr6000/ProjectRepository/master/images/NightSky.jpg)"
      ]
    },
    {
      "cell_type": "markdown",
      "metadata": {
        "id": "sbHJ43y5huok",
        "colab_type": "text"
      },
      "source": [
        ""
      ]
    }
  ]
}